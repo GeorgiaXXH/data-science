{
 "cells": [
  {
   "cell_type": "markdown",
   "id": "f944f317",
   "metadata": {},
   "source": [
    "# Homework One_A/B testing "
   ]
  },
  {
   "cell_type": "code",
   "execution_count": 1,
   "id": "dfad2abb",
   "metadata": {},
   "outputs": [],
   "source": [
    "import numpy as np\n",
    "import pandas as pd\n",
    "import matplotlib.pyplot as plt\n",
    "import scipy.stats as stats\n",
    "import statsmodels.stats.api as sms\n",
    "from statsmodels.stats.proportion import proportions_ztest"
   ]
  },
  {
   "cell_type": "code",
   "execution_count": 2,
   "id": "0208e42d",
   "metadata": {
    "scrolled": true
   },
   "outputs": [
    {
     "data": {
      "text/html": [
       "<div>\n",
       "<style scoped>\n",
       "    .dataframe tbody tr th:only-of-type {\n",
       "        vertical-align: middle;\n",
       "    }\n",
       "\n",
       "    .dataframe tbody tr th {\n",
       "        vertical-align: top;\n",
       "    }\n",
       "\n",
       "    .dataframe thead th {\n",
       "        text-align: right;\n",
       "    }\n",
       "</style>\n",
       "<table border=\"1\" class=\"dataframe\">\n",
       "  <thead>\n",
       "    <tr style=\"text-align: right;\">\n",
       "      <th></th>\n",
       "      <th>Conversion</th>\n",
       "      <th>Group</th>\n",
       "      <th>Algorithm</th>\n",
       "    </tr>\n",
       "  </thead>\n",
       "  <tbody>\n",
       "    <tr>\n",
       "      <th>0</th>\n",
       "      <td>0</td>\n",
       "      <td>control</td>\n",
       "      <td>Popularity</td>\n",
       "    </tr>\n",
       "    <tr>\n",
       "      <th>1</th>\n",
       "      <td>0</td>\n",
       "      <td>treatment</td>\n",
       "      <td>Personalzied</td>\n",
       "    </tr>\n",
       "    <tr>\n",
       "      <th>2</th>\n",
       "      <td>0</td>\n",
       "      <td>control</td>\n",
       "      <td>Popularity</td>\n",
       "    </tr>\n",
       "    <tr>\n",
       "      <th>3</th>\n",
       "      <td>0</td>\n",
       "      <td>control</td>\n",
       "      <td>Popularity</td>\n",
       "    </tr>\n",
       "    <tr>\n",
       "      <th>4</th>\n",
       "      <td>0</td>\n",
       "      <td>control</td>\n",
       "      <td>Popularity</td>\n",
       "    </tr>\n",
       "  </tbody>\n",
       "</table>\n",
       "</div>"
      ],
      "text/plain": [
       "   Conversion      Group     Algorithm\n",
       "0           0    control    Popularity\n",
       "1           0  treatment  Personalzied\n",
       "2           0    control    Popularity\n",
       "3           0    control    Popularity\n",
       "4           0    control    Popularity"
      ]
     },
     "execution_count": 2,
     "metadata": {},
     "output_type": "execute_result"
    }
   ],
   "source": [
    "df = pd.read_csv(\"Algorithm_data.csv\")\n",
    "df.head()"
   ]
  },
  {
   "cell_type": "markdown",
   "id": "d3d67fd5",
   "metadata": {},
   "source": [
    "## 2 a) What is our prior estimate of the variance of the OEC ($σ^2$)?"
   ]
  },
  {
   "cell_type": "code",
   "execution_count": 4,
   "id": "b018b6c6",
   "metadata": {},
   "outputs": [
    {
     "name": "stdout",
     "output_type": "stream",
     "text": [
      "The variance of the OEC is 0.0475.\n"
     ]
    }
   ],
   "source": [
    "p = .05\n",
    "variance = p*(1-p)\n",
    "print(f'The variance of the OEC is {variance}.')"
   ]
  },
  {
   "cell_type": "markdown",
   "id": "86b17e3b",
   "metadata": {},
   "source": [
    "## 2 b) How does the number of samples needed change depending on the sensitivity? "
   ]
  },
  {
   "cell_type": "code",
   "execution_count": 9,
   "id": "c0bb3cd3",
   "metadata": {
    "scrolled": true
   },
   "outputs": [
    {
     "name": "stdout",
     "output_type": "stream",
     "text": [
      "0.01 7600\n",
      "0.02 1900\n",
      "0.03 844\n",
      "0.04 475\n",
      "0.05 303\n",
      "As the sensitivity became larger, the number of samples needed became smaller.\n"
     ]
    }
   ],
   "source": [
    "def power_simple(variance, sensitivity):\n",
    "    n = (16*variance)/sensitivity**2\n",
    "    return(int(n))\n",
    "for sen in np.arange(0.01,0.06,0.01):\n",
    "    print(sen,power_simple(variance,sen))\n",
    "print('As the sensitivity became larger, the number of samples needed became smaller.')"
   ]
  },
  {
   "cell_type": "markdown",
   "id": "7863085d",
   "metadata": {},
   "source": [
    "## 2 c) What should our minimum sample size be for this experiment with Δ = 3%? "
   ]
  },
  {
   "cell_type": "code",
   "execution_count": 11,
   "id": "d9b898b9",
   "metadata": {
    "scrolled": true
   },
   "outputs": [
    {
     "name": "stdout",
     "output_type": "stream",
     "text": [
      "The minimum sample size would be 844 when sensitivy is 3%.\n"
     ]
    }
   ],
   "source": [
    "print(f'The minimum sample size would be {power_simple(variance,0.03)} when sensitivy is 3%.')"
   ]
  },
  {
   "cell_type": "markdown",
   "id": "77580145",
   "metadata": {},
   "source": [
    "## 2 d)  What would be our required sample size using this metric? What does this tell us about choosing OECs with larger or smaller variances?"
   ]
  },
  {
   "cell_type": "markdown",
   "id": "fd3bcd5a",
   "metadata": {},
   "source": [
    "standard deviation = $\\sqrt{p*(1-p)}$ = 30  \n",
    "$\\Delta$=3%  \n",
    "$\\sigma$ = $\\sqrt{p*(1-p)*(\\frac{1}{n_c}+\\frac{1}{n_e})}$  \n",
    "$n_c$=$n_e$=n=$\\frac{16\\sigma^2}{\\Delta^2}$  \n",
    "so we came up with an equation:  \n",
    "n=$\\frac{16*p*(1-p)*(\\frac{1}{n}+\\frac{1}{n})}{\\Delta^2}$  \n",
    "which means  \n",
    "n=$\\frac{4*standard\\ deviation*\\sqrt{2}}{\\Delta}$"
   ]
  },
  {
   "cell_type": "code",
   "execution_count": 23,
   "id": "d52669de",
   "metadata": {},
   "outputs": [
    {
     "name": "stdout",
     "output_type": "stream",
     "text": [
      "So the minimum sample size would be 5657.\n",
      "And we can came to a conclusion that required sample size will become larger if we choose OEC with larger variances.\n"
     ]
    }
   ],
   "source": [
    "n_sample=round(120*np.sqrt(2)/0.03)\n",
    "print(f\"So the minimum sample size would be {n_sample}.\\nAnd we can came to a conclusion that required sample size will become larger if we choose OEC with larger variances.\")"
   ]
  },
  {
   "cell_type": "markdown",
   "id": "e22de1e2",
   "metadata": {},
   "source": [
    "## 3 a) Test whether the difference between the control and treatment conversion rates is statistically significant. Let α = 5%."
   ]
  },
  {
   "cell_type": "code",
   "execution_count": 22,
   "id": "40bf0184",
   "metadata": {},
   "outputs": [
    {
     "data": {
      "text/html": [
       "<div>\n",
       "<style scoped>\n",
       "    .dataframe tbody tr th:only-of-type {\n",
       "        vertical-align: middle;\n",
       "    }\n",
       "\n",
       "    .dataframe tbody tr th {\n",
       "        vertical-align: top;\n",
       "    }\n",
       "\n",
       "    .dataframe thead th {\n",
       "        text-align: right;\n",
       "    }\n",
       "</style>\n",
       "<table border=\"1\" class=\"dataframe\">\n",
       "  <thead>\n",
       "    <tr style=\"text-align: right;\">\n",
       "      <th>Group</th>\n",
       "      <th>control</th>\n",
       "      <th>treatment</th>\n",
       "    </tr>\n",
       "    <tr>\n",
       "      <th>Algorithm</th>\n",
       "      <th></th>\n",
       "      <th></th>\n",
       "    </tr>\n",
       "  </thead>\n",
       "  <tbody>\n",
       "    <tr>\n",
       "      <th>Personalzied</th>\n",
       "      <td>0</td>\n",
       "      <td>51311</td>\n",
       "    </tr>\n",
       "    <tr>\n",
       "      <th>Popularity</th>\n",
       "      <td>51311</td>\n",
       "      <td>0</td>\n",
       "    </tr>\n",
       "  </tbody>\n",
       "</table>\n",
       "</div>"
      ],
      "text/plain": [
       "Group         control  treatment\n",
       "Algorithm                       \n",
       "Personalzied        0      51311\n",
       "Popularity      51311          0"
      ]
     },
     "execution_count": 22,
     "metadata": {},
     "output_type": "execute_result"
    }
   ],
   "source": [
    "pd.crosstab(df.Algorithm,df.Group)"
   ]
  },
  {
   "cell_type": "code",
   "execution_count": 28,
   "id": "af1b73eb",
   "metadata": {
    "scrolled": true
   },
   "outputs": [
    {
     "data": {
      "text/html": [
       "<div>\n",
       "<style scoped>\n",
       "    .dataframe tbody tr th:only-of-type {\n",
       "        vertical-align: middle;\n",
       "    }\n",
       "\n",
       "    .dataframe tbody tr th {\n",
       "        vertical-align: top;\n",
       "    }\n",
       "\n",
       "    .dataframe thead th {\n",
       "        text-align: right;\n",
       "    }\n",
       "</style>\n",
       "<table border=\"1\" class=\"dataframe\">\n",
       "  <thead>\n",
       "    <tr style=\"text-align: right;\">\n",
       "      <th></th>\n",
       "      <th>Conversion</th>\n",
       "      <th>Group</th>\n",
       "      <th>Algorithm</th>\n",
       "    </tr>\n",
       "  </thead>\n",
       "  <tbody>\n",
       "    <tr>\n",
       "      <th>0</th>\n",
       "      <td>0</td>\n",
       "      <td>control</td>\n",
       "      <td>Popularity</td>\n",
       "    </tr>\n",
       "    <tr>\n",
       "      <th>1</th>\n",
       "      <td>0</td>\n",
       "      <td>control</td>\n",
       "      <td>Popularity</td>\n",
       "    </tr>\n",
       "    <tr>\n",
       "      <th>2</th>\n",
       "      <td>0</td>\n",
       "      <td>control</td>\n",
       "      <td>Popularity</td>\n",
       "    </tr>\n",
       "    <tr>\n",
       "      <th>3</th>\n",
       "      <td>0</td>\n",
       "      <td>control</td>\n",
       "      <td>Popularity</td>\n",
       "    </tr>\n",
       "    <tr>\n",
       "      <th>4</th>\n",
       "      <td>0</td>\n",
       "      <td>control</td>\n",
       "      <td>Popularity</td>\n",
       "    </tr>\n",
       "  </tbody>\n",
       "</table>\n",
       "</div>"
      ],
      "text/plain": [
       "   Conversion    Group   Algorithm\n",
       "0           0  control  Popularity\n",
       "1           0  control  Popularity\n",
       "2           0  control  Popularity\n",
       "3           0  control  Popularity\n",
       "4           0  control  Popularity"
      ]
     },
     "execution_count": 28,
     "metadata": {},
     "output_type": "execute_result"
    }
   ],
   "source": [
    "control_sample = df[df['Group'] == 'control'].sample(n=n_sample, random_state=22)\n",
    "treatment_sample = df[df['Group'] == 'treatment'].sample(n=n_sample, random_state=10)\n",
    "ab_test = pd.concat([control_sample, treatment_sample], axis=0)\n",
    "ab_test.reset_index(drop=True, inplace=True)\n",
    "ab_test.head()"
   ]
  },
  {
   "cell_type": "code",
   "execution_count": 40,
   "id": "e2d27557",
   "metadata": {},
   "outputs": [
    {
     "name": "stdout",
     "output_type": "stream",
     "text": [
      "7.548420423117743\n"
     ]
    }
   ],
   "source": [
    "control = control_sample['Conversion']\n",
    "treatment = treatment_sample['Conversion']\n",
    "\n",
    "# Get the counts fopr each group (is equal in this case)\n",
    "n_c = len(control)\n",
    "n_e = len(treatment)\n",
    "diff = treatment.mean()-control.mean()\n",
    "p_hat  = ab_test['Conversion'].mean()\n",
    "sigma_d = np.sqrt(p_hat*(1-p_hat)*((1/n_c)+(1/n_e)))\n",
    "t = diff/sigma_d\n",
    "print(t)"
   ]
  },
  {
   "cell_type": "code",
   "execution_count": 41,
   "id": "aa6ddbb2",
   "metadata": {},
   "outputs": [
    {
     "name": "stdout",
     "output_type": "stream",
     "text": [
      "7.548420423117743\n"
     ]
    }
   ],
   "source": [
    "successes = [ treatment.sum(),control.sum(),]\n",
    "nobs = [n_c, n_e]\n",
    "\n",
    "\n",
    "z_stat, pval = proportions_ztest(successes, nobs=nobs)\n",
    "print(z_stat)"
   ]
  },
  {
   "cell_type": "code",
   "execution_count": 42,
   "id": "97cd6220",
   "metadata": {},
   "outputs": [
    {
     "data": {
      "text/plain": [
       "Ttest_indResult(statistic=7.566830999078732, pvalue=4.121071852317913e-14)"
      ]
     },
     "execution_count": 42,
     "metadata": {},
     "output_type": "execute_result"
    }
   ],
   "source": [
    "stats.ttest_ind(treatment,control)"
   ]
  },
  {
   "cell_type": "markdown",
   "id": "ce42e3a4",
   "metadata": {},
   "source": [
    "From the tests above, we can't conclude that there is a meaningful difference between groups."
   ]
  },
  {
   "cell_type": "markdown",
   "id": "47b9d68c",
   "metadata": {},
   "source": [
    "## 3 b) "
   ]
  },
  {
   "cell_type": "markdown",
   "id": "e5122d0e",
   "metadata": {},
   "source": [
    "The hypothesis test is not enough to decide to implement the new algorithm because in business cases we also need to consider the economic significance. Even if the hypothesis test shows that there is a statistical significance between two groups, we will not implement the new algorithm if the cost is larger than the potential profits."
   ]
  },
  {
   "cell_type": "markdown",
   "id": "f49f2b96",
   "metadata": {},
   "source": [
    "## 4 a)  95% confidence interval around the difference between the OECs of the treatment and control groups"
   ]
  },
  {
   "cell_type": "code",
   "execution_count": 43,
   "id": "a92fbf69",
   "metadata": {},
   "outputs": [
    {
     "name": "stdout",
     "output_type": "stream",
     "text": [
      "ci 95% for difference: [0.026, 0.045]\n"
     ]
    }
   ],
   "source": [
    "upper = diff + 1.96*sigma_d\n",
    "lower = diff - 1.96*sigma_d\n",
    "print(f'ci 95% for difference: [{lower:.3f}, {upper:.3f}]')"
   ]
  },
  {
   "cell_type": "markdown",
   "id": "abbbd8da",
   "metadata": {},
   "source": [
    "## 4 b) economic significance threshold of 3%. "
   ]
  },
  {
   "cell_type": "markdown",
   "id": "b02b02e4",
   "metadata": {},
   "source": [
    "Since the economic significance threshold 3% is within the 95% ci, we cannot make the decision whether to implement the new algorithm. And in reality, this uncertainty means we won't implement the new change."
   ]
  },
  {
   "cell_type": "markdown",
   "id": "5b473a14",
   "metadata": {},
   "source": [
    "## 4 c) "
   ]
  },
  {
   "cell_type": "markdown",
   "id": "ecb7d30a",
   "metadata": {},
   "source": [
    "If the economic significance level is above the upper bound of your confidence interval, I will not implement the new algorithm change.  \n",
    "If the economic significance level is within your confidence interval,It is not clear whether it is worth it to implement the change. So we need to have more testing (possibly with a larger sample)."
   ]
  },
  {
   "cell_type": "markdown",
   "id": "12578ca4",
   "metadata": {},
   "source": [
    "## 5 a) "
   ]
  },
  {
   "cell_type": "code",
   "execution_count": 45,
   "id": "3a812fee",
   "metadata": {},
   "outputs": [
    {
     "name": "stdout",
     "output_type": "stream",
     "text": [
      "8 user groups would be needed for a full factorial design with three factors.\n"
     ]
    }
   ],
   "source": [
    "print(f\"{np.power(2,3)} user groups would be needed for a full factorial design with three factors.\")"
   ]
  },
  {
   "cell_type": "markdown",
   "id": "9aeb778b",
   "metadata": {},
   "source": [
    "## 5 b) "
   ]
  },
  {
   "cell_type": "code",
   "execution_count": 49,
   "id": "954d2a36",
   "metadata": {},
   "outputs": [
    {
     "name": "stdout",
     "output_type": "stream",
     "text": [
      "The number of samples needed to run this experiment change if we used 3 levels (two treatment groups) for each factor instead of just one is 7600.\n"
     ]
    }
   ],
   "source": [
    "r = 2\n",
    "p = .05  \n",
    "sigma = np.sqrt(p*(1-p))\n",
    "delta = .03\n",
    "n = int(np.ceil(((4*r*sigma)/.02)**2))\n",
    "print(f\"The number of samples needed to run this experiment change if we used 3 levels (two treatment groups) for each factor instead of just one is {n}.\")"
   ]
  },
  {
   "cell_type": "markdown",
   "id": "863e423a",
   "metadata": {},
   "source": [
    "## 5 c) "
   ]
  },
  {
   "cell_type": "code",
   "execution_count": 64,
   "id": "b29d6250",
   "metadata": {},
   "outputs": [
    {
     "name": "stdout",
     "output_type": "stream",
     "text": [
      "The combination that yields the highest probability of conversion is:\n",
      "x1              1.000000\n",
      "x2              1.000000\n",
      "x1:x2           1.000000\n",
      "conversion p    0.299433\n",
      "dtype: float64.\n",
      "The highest probability of conversion is 0.2994\n"
     ]
    }
   ],
   "source": [
    "conversion_df=pd.DataFrame()\n",
    "conversion_df['x1']=[1,1,0,0]\n",
    "conversion_df['x2']=[1,0,1,0]\n",
    "conversion_df['x1:x2']=conversion_df['x1']*conversion_df['x2']\n",
    "beta0=-1\n",
    "beta1=0.15\n",
    "beta2=0.08\n",
    "beta3=-0.1\n",
    "conversion_df['conversion p']=np.exp(beta0+beta1*conversion_df['x1']+beta2*conversion_df['x2']+beta3*conversion_df['x1:x2'])/(1+np.exp(beta0+beta1*conversion_df['x1']+beta2*conversion_df['x2']+beta3*conversion_df['x1:x2']))\n",
    "print(f'The combination that yields the highest probability of conversion is:\\n{conversion_df.max(axis=0)}.\\nThe highest probability of conversion is {round(conversion_df.max(axis=0)[3],4)}')"
   ]
  }
 ],
 "metadata": {
  "kernelspec": {
   "display_name": "Python 3",
   "language": "python",
   "name": "python3"
  },
  "language_info": {
   "codemirror_mode": {
    "name": "ipython",
    "version": 3
   },
   "file_extension": ".py",
   "mimetype": "text/x-python",
   "name": "python",
   "nbconvert_exporter": "python",
   "pygments_lexer": "ipython3",
   "version": "3.8.8"
  }
 },
 "nbformat": 4,
 "nbformat_minor": 5
}
